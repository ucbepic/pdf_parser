{
 "cells": [
  {
   "cell_type": "code",
   "execution_count": 1,
   "metadata": {},
   "outputs": [],
   "source": [
    "import pandas as pd\n",
    "import wikipediaapi\n",
    "import re"
   ]
  },
  {
   "cell_type": "code",
   "execution_count": 4,
   "metadata": {},
   "outputs": [
    {
     "data": {
      "text/plain": [
       "['Raul Grijalva (AZ)',\n",
       " 'Barbara Lee (CA)',\n",
       " 'Ro Khanna (CA)',\n",
       " 'Jimmy Gomez (CA)',\n",
       " 'Maxwell Frost (FL)',\n",
       " 'Lois Frankel (FL)',\n",
       " 'Delia Ramirez (IL)',\n",
       " 'Chuy Garcia (IL)',\n",
       " 'Andre Carson (IN)',\n",
       " 'Jared Golden (ME)',\n",
       " 'Ayanna Pressley (MA)',\n",
       " 'Debbie Dingell (MI)',\n",
       " 'Rashida Tlaib (MI)',\n",
       " 'Ilhan Omar (MN)',\n",
       " 'Cori Bush (MO)',\n",
       " 'Nydia Velazquez (NY)',\n",
       " 'Alexandria Ocasio-Cortez (NY)',\n",
       " 'Jamaal Bowman (NY)',\n",
       " 'Summer Lee (PA)',\n",
       " 'Joaquin Castro (TX)',\n",
       " 'Greg Casar (TX)',\n",
       " 'Pramila Jayapal (WA)',\n",
       " 'Mark Pocan (WI)']"
      ]
     },
     "execution_count": 4,
     "metadata": {},
     "output_type": "execute_result"
    }
   ],
   "source": [
    "with open('public/dems24.txt', 'r') as f:\n",
    "    txt = [each.strip() for each in f.readlines()]\n",
    "txt"
   ]
  },
  {
   "cell_type": "code",
   "execution_count": 5,
   "metadata": {},
   "outputs": [
    {
     "data": {
      "text/plain": [
       "['SIGNATURES',\n",
       " 'MARCH 12TH, 2024',\n",
       " 'votes by party',\n",
       " 'REPRESENTATIVE\\tSTATE\\tDISTRICT',\n",
       " '1. James P. McGovern\\tMassachusetts\\t02',\n",
       " '2. Gabe Vasquez\\tNew Mexico\\t02',\n",
       " '3. Stephen F. Lynch\\tMassachusetts\\t08',\n",
       " '4. Matt Cartwright\\tPennsylvania\\t08',\n",
       " '5. Earl Blumenauer\\tOregon\\t03',\n",
       " '6. Jonathan L. Jackson\\tIllinois\\t01',\n",
       " '7. Steny H. Hoyer\\tMaryland\\t05',\n",
       " '8. Donald G. Davis\\tNorth Carolina\\t01',\n",
       " '9. Scott H. Peters\\tCalifornia\\t50',\n",
       " '10. Wiley Nickel\\tNorth Carolina\\t13',\n",
       " '11. Katherine M. Clark\\tMassachusetts\\t05',\n",
       " '12. Morgan McGarvey\\tKentucky\\t03',\n",
       " '13. Hakeem S. Jeffries\\tNew York\\t08',\n",
       " '14. Suzan K. DelBene\\tWashington\\t01',\n",
       " '15. Thomas R. Suozzi\\tNew York\\t03',\n",
       " '16. Susan Wild\\tPennsylvania\\t07',\n",
       " '17. Lucy McBath\\tGeorgia\\t07',\n",
       " '18. Mike Thompson\\tCalifornia\\t04',\n",
       " '19. Bennie G. Thompson\\tMississippi\\t02',\n",
       " '20. Emanuel Cleaver\\tMissouri\\t05',\n",
       " '21. Diana DeGette\\tColorado\\t01',\n",
       " '22. Doris O. Matsui\\tCalifornia\\t07',\n",
       " '23. Salud O. Carbajal\\tCalifornia\\t24',\n",
       " '24. Ami Bera\\tCalifornia\\t06',\n",
       " '25. Joyce Beatty\\tOhio\\t03',\n",
       " '26. Val T. Hoyle\\tOregon\\t04',\n",
       " '27. Richard E. Neal\\tMassachusetts\\t01',\n",
       " '28. Jennifer L. McClellan\\tVirginia\\t04',\n",
       " '29. David Scott\\tGeorgia\\t13',\n",
       " '30. Patrick Ryan\\tNew York\\t18',\n",
       " '31. Andrea Salinas\\tOregon\\t06',\n",
       " '32. Marilyn Strickland\\tWashington\\t10',\n",
       " '33. Chrissy Houlahan\\tPennsylvania\\t06',\n",
       " '34. Mike Quigley\\tIllinois\\t05',\n",
       " '35. Jahana Hayes\\tConnecticut\\t05',\n",
       " '36. John B. Larson\\tConnecticut\\t01',\n",
       " '37. Sanford D. Bishop\\tGeorgia\\t02',\n",
       " '38. Shri Thanedar\\tMichigan\\t13',\n",
       " '39. William R. Keating\\tMassachusetts\\t09',\n",
       " '40. Jake Auchincloss\\tMassachusetts\\t04',\n",
       " '41. J. Luis Correa\\tCalifornia\\t46',\n",
       " '42. Valerie P. Foushee\\tNorth Carolina\\t04',\n",
       " '43. Sean Casten\\tIllinois\\t06',\n",
       " '44. Jared Huffman\\tCalifornia\\t02',\n",
       " '45. Deborah K. Ross\\tNorth Carolina\\t02',\n",
       " '46. Lauren Underwood\\tIllinois\\t14',\n",
       " '47. Brittany Pettersen\\tColorado\\t07',\n",
       " '48. Jamie Raskin\\tMaryland\\t08',\n",
       " '49. Joseph D. Morelle\\tNew York\\t25',\n",
       " '50. Colin Z. Allred\\tTexas\\t32',\n",
       " '51. Gabe Amo\\tRhode Island\\t01',\n",
       " '52. Greg Stanton\\tArizona\\t04',\n",
       " '53. Juan Vargas\\tCalifornia\\t52',\n",
       " '54. Lizzie Fletcher\\tTexas\\t07',\n",
       " '55. Paul Tonko\\tNew York\\t20',\n",
       " '56. Grace Meng\\tNew York\\t06',\n",
       " '57. Robert C. \"Bobby\" Scott\\tVirginia\\t03',\n",
       " '58. Sara Jacobs\\tCalifornia\\t51',\n",
       " '59. Seth Magaziner\\tRhode Island\\t02',\n",
       " '60. Tony Cárdenas\\tCalifornia\\t29',\n",
       " '61. Suzanne Bonamici\\tOregon\\t01',\n",
       " '62. Ann M. Kuster\\tNew Hampshire\\t02',\n",
       " '63. Mary Gay Scanlon\\tPennsylvania\\t05',\n",
       " '64. Robin L. Kelly\\tIllinois\\t02',\n",
       " '65. Rosa L. DeLauro\\tConnecticut\\t03',\n",
       " '66. Jill N. Tokuda\\tHawaii\\t02',\n",
       " '67. Sydney Kamlager-Dove\\tCalifornia\\t37',\n",
       " '68. Emilia Strong Sykes\\tOhio\\t13',\n",
       " '69. Frederica S. Wilson\\tFlorida\\t24',\n",
       " '70. Darren Soto\\tFlorida\\t09',\n",
       " '71. Sheila Jackson Lee\\tTexas\\t18',\n",
       " '72. Zoe Lofgren\\tCalifornia\\t18',\n",
       " '73. John Garamendi\\tCalifornia\\t08',\n",
       " '74. Troy A. Carter\\tLouisiana\\t02',\n",
       " '75. Ed Case\\tHawaii\\t01',\n",
       " '76. Hillary J. Scholten\\tMichigan\\t03',\n",
       " '77. Yvette D. Clarke\\tNew York\\t09',\n",
       " '78. Bonnie Watson Coleman\\tNew Jersey\\t12',\n",
       " '79. Gregory W. Meeks\\tNew York\\t05',\n",
       " '80. James E. Clyburn\\tSouth Carolina\\t06',\n",
       " '81. Raja Krishnamoorthi\\tIllinois\\t08',\n",
       " '82. Jimmy Panetta\\tCalifornia\\t19',\n",
       " '83. Bradley Scott Schneider\\tIllinois\\t10',\n",
       " '84. Steve Cohen\\tTennessee\\t09',\n",
       " '85. Shontel M. Brown\\tOhio\\t11',\n",
       " '86. Rick Larsen\\tWashington\\t02',\n",
       " '87. Donald S. Beyer\\tVirginia\\t08',\n",
       " '88. Ted Lieu\\tCalifornia\\t36',\n",
       " '89. Christopher R. Deluzio\\tPennsylvania\\t17',\n",
       " '90. Daniel T. Kildee\\tMichigan\\t08',\n",
       " '91. Lisa Blunt Rochester\\tDelaware\\t00',\n",
       " '92. James A. Himes\\tConnecticut\\t04',\n",
       " '93. Jasmine Crockett\\tTexas\\t30',\n",
       " '94. Adam B. Schiff\\tCalifornia\\t30',\n",
       " '95. Raul Ruiz\\tCalifornia\\t25',\n",
       " '96. Grace F. Napolitano\\tCalifornia\\t31',\n",
       " '97. Dwight Evans\\tPennsylvania\\t03',\n",
       " '98. Jeff Jackson\\tNorth Carolina\\t14',\n",
       " '99. Nanette Diaz Barragán\\tCalifornia\\t44',\n",
       " '100. Glenn Ivey\\tMaryland\\t04',\n",
       " '101. Yadira Caraveo\\tColorado\\t08',\n",
       " '102. Sheila Cherfilus-McCormick\\tFlorida\\t20',\n",
       " '103. Bill Pascrell\\tNew Jersey\\t09',\n",
       " '104. Seth Moulton\\tMassachusetts\\t06',\n",
       " '105. Greg Landsman\\tOhio\\t01',\n",
       " '106. Joe Courtney\\tConnecticut\\t02',\n",
       " '107. Henry C. \"Hank\" Johnson\\tGeorgia\\t04',\n",
       " '108. Linda T. Sánchez\\tCalifornia\\t38',\n",
       " '109. Jennifer Wexton\\tVirginia\\t10',\n",
       " '110. Mike Levin\\tCalifornia\\t49',\n",
       " '111. Abigail Davis Spanberger\\tVirginia\\t07',\n",
       " '112. Kathy Castor\\tFlorida\\t14',\n",
       " '113. Janice D. Schakowsky\\tIllinois\\t09',\n",
       " '114. Anna G. Eshoo\\tCalifornia\\t16',\n",
       " '115. Alma S. Adams\\tNorth Carolina\\t12',\n",
       " '116. Josh Gottheimer\\tNew Jersey\\t05',\n",
       " '117. Derek Kilmer\\tWashington\\t06',\n",
       " '118. Betty McCollum\\tMinnesota\\t04',\n",
       " '119. Lori Trahan\\tMassachusetts\\t03',\n",
       " '120. Adam Smith\\tWashington\\t09',\n",
       " '121. Ruben Gallego\\tArizona\\t03',\n",
       " '122. Haley M. Stevens\\tMichigan\\t11',\n",
       " '123. Jared Moskowitz\\tFlorida\\t23',\n",
       " '124. Brad Sherman\\tCalifornia\\t32',\n",
       " '125. Brendan F. Boyle\\tPennsylvania\\t02',\n",
       " '126. Chris Pappas\\tNew Hampshire\\t01',\n",
       " '127. Mark DeSaulnier\\tCalifornia\\t10',\n",
       " '128. Gwen Moore\\tWisconsin\\t04',\n",
       " '129. Marie Gluesenkamp Perez\\tWashington\\t03',\n",
       " '130. John P. Sarbanes\\tMaryland\\t03',\n",
       " '131. Marcy Kaptur\\tOhio\\t09',\n",
       " '132. Nikki Budzinski\\tIllinois\\t13',\n",
       " '133. Jason Crow\\tColorado\\t06',\n",
       " '134. Teresa Leger Fernandez\\tNew Mexico\\t03',\n",
       " '135. Frank J. Mrvan\\tIndiana\\t01',\n",
       " '136. Daniel S. Goldman\\tNew York\\t10',\n",
       " '137. Adriano Espaillat\\tNew York\\t13',\n",
       " '138. Becca Balint\\tVermont\\t00',\n",
       " '139. Al Green\\tTexas\\t09',\n",
       " '140. Norma J. Torres\\tCalifornia\\t35',\n",
       " '141. Kathy E. Manning\\tNorth Carolina\\t06',\n",
       " '142. Pete Aguilar\\tCalifornia\\t33',\n",
       " '143. Eric Swalwell\\tCalifornia\\t14',\n",
       " '144. Mark Takano\\tCalifornia\\t39',\n",
       " '145. Bill Foster\\tIllinois\\t11',\n",
       " '146. Susie Lee\\tNevada\\t03',\n",
       " '147. Julia Brownley\\tCalifornia\\t26',\n",
       " '148. Debbie Wasserman Schultz\\tFlorida\\t25',\n",
       " '149. Frank Pallone\\tNew Jersey\\t06',\n",
       " '150. C. A. Dutch Ruppersberger\\tMaryland\\t02',\n",
       " '151. Jim Costa\\tCalifornia\\t21',\n",
       " '152. Kweisi Mfume\\tMaryland\\t07',\n",
       " '153. Robert Menendez\\tNew Jersey\\t08',\n",
       " '154. Terri A. Sewell\\tAlabama\\t07',\n",
       " '155. Elissa Slotkin\\tMichigan\\t07',\n",
       " '156. Judy Chu\\tCalifornia\\t28',\n",
       " '157. Marc A. Veasey\\tTexas\\t33',\n",
       " '158. Nancy Pelosi\\tCalifornia\\t11',\n",
       " '159. Maxine Waters\\tCalifornia\\t43',\n",
       " '160. Dina Titus\\tNevada\\t01',\n",
       " '161. Eric Sorensen\\tIllinois\\t17',\n",
       " '162. Sylvia R. Garcia\\tTexas\\t29',\n",
       " '163. Henry Cuellar\\tTexas\\t28',\n",
       " '164. Joe Neguse\\tColorado\\t02',\n",
       " '165. David J. Trone\\tMaryland\\t06',\n",
       " '166. Mikie Sherrill\\tNew Jersey\\t11',\n",
       " '167. Jerrold Nadler\\tNew York\\t12',\n",
       " '168. Angie Craig\\tMinnesota\\t02',\n",
       " '169. Nikema Williams\\tGeorgia\\t05',\n",
       " 'MARCH 13TH, 2024',\n",
       " 'votes by party',\n",
       " 'REPRESENTATIVE\\tSTATE\\tDISTRICT',\n",
       " '170. Ritchie Torres\\tNew York\\t15',\n",
       " '171. Vicente Gonzalez\\tTexas\\t34',\n",
       " '172. Madeleine Dean\\tPennsylvania\\t04',\n",
       " '173. Kim Schrier\\tWashington\\t08',\n",
       " '174. Melanie A. Stansbury\\tNew Mexico\\t01',\n",
       " '175. Steven Horsford\\tNevada\\t04',\n",
       " '176. Robert Garcia\\tCalifornia\\t42',\n",
       " '177. Donald Norcross\\tNew Jersey\\t01',\n",
       " 'MARCH 19TH, 2024',\n",
       " 'votes by party',\n",
       " 'REPRESENTATIVE\\tSTATE\\tDISTRICT',\n",
       " '178. Veronica Escobar\\tTexas\\t16',\n",
       " '179. Sharice Davids\\tKansas\\t03',\n",
       " '180. Mary Sattler Peltola\\tAlaska\\t00',\n",
       " '181. Dean Phillips\\tMinnesota\\t03',\n",
       " '182. Katie Porter\\tCalifornia\\t47',\n",
       " 'MARCH 20TH, 2024',\n",
       " 'votes by party',\n",
       " 'REPRESENTATIVE\\tSTATE\\tDISTRICT',\n",
       " '183. Andy Kim\\tNew Jersey\\t03',\n",
       " '184. Gerald E. Connolly\\tVirginia\\t11',\n",
       " '185. Donald M. Payne\\tNew Jersey\\t10',\n",
       " 'MARCH 21ST, 2024',\n",
       " 'votes by party',\n",
       " 'REPRESENTATIVE\\tSTATE\\tDISTRICT',\n",
       " '186. Danny K. Davis\\tIllinois\\t07',\n",
       " '187. Lloyd Doggett\\tTexas\\t37',\n",
       " '188. Ken Buck\\tColorado\\t04',\n",
       " 'MARCH 22ND, 2024',\n",
       " 'votes by party',\n",
       " 'REPRESENTATIVE\\tSTATE\\tDISTRICT',\n",
       " '189. Josh Harder\\tCalifornia\\t09',\n",
       " '190. Kevin Mullin\\tCalifornia\\t15',\n",
       " '191. Chellie Pingree\\tMaine\\t01']"
      ]
     },
     "execution_count": 5,
     "metadata": {},
     "output_type": "execute_result"
    }
   ],
   "source": [
    "with open('public/signatures8april24.txt', 'r') as f:\n",
    "    signed = [each.strip() for each in f.readlines()]\n",
    "signed"
   ]
  },
  {
   "cell_type": "code",
   "execution_count": null,
   "metadata": {},
   "outputs": [],
   "source": [
    "[each for each in signed if ]"
   ]
  },
  {
   "cell_type": "code",
   "execution_count": 12,
   "metadata": {},
   "outputs": [],
   "source": [
    "wiki_wiki = wikipediaapi.Wikipedia(\"QuorumFinder (rogarcia@berkeley.edu; rlnsanz.github.io)\")"
   ]
  },
  {
   "cell_type": "code",
   "execution_count": 15,
   "metadata": {},
   "outputs": [],
   "source": [
    "pattern = r'\\b(?:Democrat(?:ic)?|Republic(?:an)?|DNC|RNC|Democracy|Republican|GOP)\\sParty\\b|\\bDemocrat(?:ic)?\\b|\\bRepublic(?:an)?\\b'"
   ]
  },
  {
   "cell_type": "code",
   "execution_count": 16,
   "metadata": {},
   "outputs": [
    {
     "name": "stdout",
     "output_type": "stream",
     "text": [
      "Raul Grijalva ['Democratic Party']\n",
      "Barbara Lee ['Democratic Party', 'Democratic', 'Democratic']\n",
      "Ro Khanna ['Democratic Party', 'Democratic']\n",
      "Jimmy Gomez ['Democratic Party']\n",
      "Maxwell Frost ['Democratic Party']\n",
      "Lois Frankel ['Democratic Party']\n",
      "Delia Ramirez ['Democratic Party']\n",
      "Chuy Garcia ['Democratic Party']\n",
      "Andre Carson ['Democratic Party']\n",
      "Jared Golden ['Democratic Party']\n",
      "Ayanna Pressley ['Democratic']\n",
      "Debbie Dingell ['Democratic Party', 'Democratic']\n",
      "Rashida Tlaib ['Democratic Party', 'Democratic', 'Democratic', 'Democratic Party']\n",
      "Ilhan Omar ['Democratic Party', 'Republican']\n",
      "Cori Bush ['Democratic Party', 'Democratic', 'Democratic']\n",
      "Nydia Velazquez ['Democrat']\n",
      "Alexandria Ocasio-Cortez ['Democratic Party', 'Democratic Party', 'Democratic', 'Republican', 'Democratic']\n",
      "Jamaal Bowman ['Democratic', 'Democratic']\n",
      "Summer Lee ['Democratic Party', 'Democratic', 'Democratic']\n",
      "Joaquin Castro ['Democratic']\n",
      "Greg Casar ['Democratic Party', 'Democratic']\n",
      "Pramila Jayapal ['Democratic Party']\n",
      "Mark Pocan ['Democratic Party']\n"
     ]
    }
   ],
   "source": [
    "for name in txt:\n",
    "    fname, lname, state = name.split()\n",
    "    p = wiki_wiki.page(f\"{fname} {lname}\")\n",
    "    if p.exists():\n",
    "        print(fname, lname, re.findall(pattern, p.summary, re.IGNORECASE))\n",
    "    else:\n",
    "        break"
   ]
  },
  {
   "cell_type": "code",
   "execution_count": 5,
   "metadata": {},
   "outputs": [
    {
     "data": {
      "text/plain": [
       "Raul Grijalva (AZ) (id: ??, ns: 0)"
      ]
     },
     "execution_count": 5,
     "metadata": {},
     "output_type": "execute_result"
    }
   ],
   "source": [
    "for name in txt:\n",
    "    \n",
    "    p = wiki_wiki.page(name)\n",
    "    break\n",
    "p"
   ]
  },
  {
   "cell_type": "code",
   "execution_count": 9,
   "metadata": {},
   "outputs": [
    {
     "data": {
      "text/plain": [
       "False"
      ]
     },
     "execution_count": 9,
     "metadata": {},
     "output_type": "execute_result"
    }
   ],
   "source": [
    "p.exists()"
   ]
  },
  {
   "cell_type": "code",
   "execution_count": 2,
   "metadata": {},
   "outputs": [],
   "source": [
    "diss_petn = pd.read_csv(\"public/motion2discharge.csv\")"
   ]
  },
  {
   "cell_type": "code",
   "execution_count": 3,
   "metadata": {},
   "outputs": [
    {
     "data": {
      "text/html": [
       "<div>\n",
       "<style scoped>\n",
       "    .dataframe tbody tr th:only-of-type {\n",
       "        vertical-align: middle;\n",
       "    }\n",
       "\n",
       "    .dataframe tbody tr th {\n",
       "        vertical-align: top;\n",
       "    }\n",
       "\n",
       "    .dataframe thead th {\n",
       "        text-align: right;\n",
       "    }\n",
       "</style>\n",
       "<table border=\"1\" class=\"dataframe\">\n",
       "  <thead>\n",
       "    <tr style=\"text-align: right;\">\n",
       "      <th></th>\n",
       "      <th>REPRESENTATIVE</th>\n",
       "      <th>STATE</th>\n",
       "      <th>DISTRICT</th>\n",
       "      <th>wiki_txt</th>\n",
       "      <th>Party</th>\n",
       "    </tr>\n",
       "  </thead>\n",
       "  <tbody>\n",
       "    <tr>\n",
       "      <th>0</th>\n",
       "      <td>James P. McGovern</td>\n",
       "      <td>Massachusetts</td>\n",
       "      <td>2</td>\n",
       "      <td>James Patrick McGovern (born November 20, 1959...</td>\n",
       "      <td>D</td>\n",
       "    </tr>\n",
       "    <tr>\n",
       "      <th>1</th>\n",
       "      <td>Gabe Vasquez</td>\n",
       "      <td>New Mexico</td>\n",
       "      <td>2</td>\n",
       "      <td>Gabriel Vasquez (born August 3, 1984) is an Am...</td>\n",
       "      <td>D</td>\n",
       "    </tr>\n",
       "    <tr>\n",
       "      <th>2</th>\n",
       "      <td>Stephen F. Lynch</td>\n",
       "      <td>Massachusetts</td>\n",
       "      <td>8</td>\n",
       "      <td>Stephen Francis Lynch (born March 31, 1955) is...</td>\n",
       "      <td>D</td>\n",
       "    </tr>\n",
       "    <tr>\n",
       "      <th>3</th>\n",
       "      <td>Matt Cartwright</td>\n",
       "      <td>Pennsylvania</td>\n",
       "      <td>8</td>\n",
       "      <td>Matthew Alton Cartwright (born May 1, 1961) is...</td>\n",
       "      <td>D</td>\n",
       "    </tr>\n",
       "    <tr>\n",
       "      <th>4</th>\n",
       "      <td>Earl Blumenauer</td>\n",
       "      <td>Oregon</td>\n",
       "      <td>3</td>\n",
       "      <td>Earl Francis Blumenauer ( BLOOM-ə-nowər; born ...</td>\n",
       "      <td>D</td>\n",
       "    </tr>\n",
       "    <tr>\n",
       "      <th>...</th>\n",
       "      <td>...</td>\n",
       "      <td>...</td>\n",
       "      <td>...</td>\n",
       "      <td>...</td>\n",
       "      <td>...</td>\n",
       "    </tr>\n",
       "    <tr>\n",
       "      <th>172</th>\n",
       "      <td>Kim Schrier</td>\n",
       "      <td>Washington</td>\n",
       "      <td>8</td>\n",
       "      <td>Kimberly Merle Schrier ( SHRIRE; born August 2...</td>\n",
       "      <td>D</td>\n",
       "    </tr>\n",
       "    <tr>\n",
       "      <th>173</th>\n",
       "      <td>Melanie A. Stansbury</td>\n",
       "      <td>New Mexico</td>\n",
       "      <td>1</td>\n",
       "      <td>Melanie Ann Stansbury (born January 31, 1979) ...</td>\n",
       "      <td>D</td>\n",
       "    </tr>\n",
       "    <tr>\n",
       "      <th>174</th>\n",
       "      <td>Steven Horsford</td>\n",
       "      <td>Nevada</td>\n",
       "      <td>4</td>\n",
       "      <td>Steven Alexzander Horsford (born April 29, 197...</td>\n",
       "      <td>D</td>\n",
       "    </tr>\n",
       "    <tr>\n",
       "      <th>175</th>\n",
       "      <td>Robert Garcia</td>\n",
       "      <td>California</td>\n",
       "      <td>42</td>\n",
       "      <td>Robert Garcia may refer to:</td>\n",
       "      <td>D</td>\n",
       "    </tr>\n",
       "    <tr>\n",
       "      <th>176</th>\n",
       "      <td>Donald Norcross</td>\n",
       "      <td>New Jersey</td>\n",
       "      <td>1</td>\n",
       "      <td>Donald W. Norcross (born December 13, 1958) is...</td>\n",
       "      <td>D</td>\n",
       "    </tr>\n",
       "  </tbody>\n",
       "</table>\n",
       "<p>177 rows × 5 columns</p>\n",
       "</div>"
      ],
      "text/plain": [
       "           REPRESENTATIVE          STATE  DISTRICT  \\\n",
       "0       James P. McGovern  Massachusetts         2   \n",
       "1            Gabe Vasquez     New Mexico         2   \n",
       "2        Stephen F. Lynch  Massachusetts         8   \n",
       "3         Matt Cartwright   Pennsylvania         8   \n",
       "4         Earl Blumenauer         Oregon         3   \n",
       "..                    ...            ...       ...   \n",
       "172           Kim Schrier     Washington         8   \n",
       "173  Melanie A. Stansbury     New Mexico         1   \n",
       "174       Steven Horsford         Nevada         4   \n",
       "175         Robert Garcia     California        42   \n",
       "176       Donald Norcross     New Jersey         1   \n",
       "\n",
       "                                              wiki_txt Party  \n",
       "0    James Patrick McGovern (born November 20, 1959...     D  \n",
       "1    Gabriel Vasquez (born August 3, 1984) is an Am...     D  \n",
       "2    Stephen Francis Lynch (born March 31, 1955) is...     D  \n",
       "3    Matthew Alton Cartwright (born May 1, 1961) is...     D  \n",
       "4    Earl Francis Blumenauer ( BLOOM-ə-nowər; born ...     D  \n",
       "..                                                 ...   ...  \n",
       "172  Kimberly Merle Schrier ( SHRIRE; born August 2...     D  \n",
       "173  Melanie Ann Stansbury (born January 31, 1979) ...     D  \n",
       "174  Steven Alexzander Horsford (born April 29, 197...     D  \n",
       "175                        Robert Garcia may refer to:     D  \n",
       "176  Donald W. Norcross (born December 13, 1958) is...     D  \n",
       "\n",
       "[177 rows x 5 columns]"
      ]
     },
     "execution_count": 3,
     "metadata": {},
     "output_type": "execute_result"
    }
   ],
   "source": [
    "diss_petn"
   ]
  },
  {
   "cell_type": "code",
   "execution_count": 5,
   "metadata": {},
   "outputs": [
    {
     "data": {
      "text/plain": [
       "177"
      ]
     },
     "execution_count": 5,
     "metadata": {},
     "output_type": "execute_result"
    }
   ],
   "source": [
    "diss_petn[diss_petn.Party == 'D']['Party'].count()"
   ]
  },
  {
   "cell_type": "code",
   "execution_count": null,
   "metadata": {},
   "outputs": [],
   "source": [
    "jimMcGovern = diss_petn.REPRESENTATIVE[0]"
   ]
  },
  {
   "cell_type": "code",
   "execution_count": null,
   "metadata": {},
   "outputs": [],
   "source": [
    "page_py = wiki_wiki.page(jimMcGovern)"
   ]
  },
  {
   "cell_type": "code",
   "execution_count": null,
   "metadata": {},
   "outputs": [],
   "source": [
    "page_py.title"
   ]
  },
  {
   "cell_type": "code",
   "execution_count": null,
   "metadata": {},
   "outputs": [],
   "source": [
    "page_py.summary"
   ]
  },
  {
   "cell_type": "code",
   "execution_count": null,
   "metadata": {},
   "outputs": [],
   "source": [
    "def get_summary(member):\n",
    "    page_py = wiki_wiki.page(member)\n",
    "    if page_py.exists():\n",
    "        return page_py.summary\n",
    "    print(\"DNE\")"
   ]
  },
  {
   "cell_type": "code",
   "execution_count": null,
   "metadata": {},
   "outputs": [],
   "source": [
    "diss_petn[\"wiki_txt\"] = diss_petn.REPRESENTATIVE.apply(get_summary)"
   ]
  },
  {
   "cell_type": "code",
   "execution_count": null,
   "metadata": {},
   "outputs": [],
   "source": [
    "diss_petn"
   ]
  },
  {
   "cell_type": "markdown",
   "metadata": {},
   "source": [
    "# Verified by hand on WikiPedia"
   ]
  },
  {
   "cell_type": "code",
   "execution_count": null,
   "metadata": {},
   "outputs": [],
   "source": [
    "diss_petn.loc[diss_petn.wiki_txt.isnull(),'Party'] = 'D'"
   ]
  },
  {
   "cell_type": "code",
   "execution_count": null,
   "metadata": {},
   "outputs": [],
   "source": [
    "diss_petn[diss_petn[\"Party\"].notna()]\n"
   ]
  },
  {
   "cell_type": "code",
   "execution_count": null,
   "metadata": {},
   "outputs": [],
   "source": [
    "diss_petn"
   ]
  },
  {
   "cell_type": "code",
   "execution_count": null,
   "metadata": {},
   "outputs": [],
   "source": [
    "import re"
   ]
  },
  {
   "cell_type": "code",
   "execution_count": null,
   "metadata": {},
   "outputs": [],
   "source": [
    "# Regex pattern\n",
    "pattern = r'\\b(Democrat(ic)?|Republic(an)?|DNC|RNC|Democracy|Republican|GOP)\\sParty\\b|\\bDemocrat(ic)?\\b|\\bRepublic(an)?\\b'\n",
    "diss_petn['regex'] = diss_petn['wiki_txt'].apply(lambda x: None if x is None else re.findall(pattern, x, re.IGNORECASE))"
   ]
  },
  {
   "cell_type": "code",
   "execution_count": null,
   "metadata": {},
   "outputs": [],
   "source": [
    "diss_petn.to_csv('public/motion2discharge2.csv')"
   ]
  },
  {
   "cell_type": "code",
   "execution_count": null,
   "metadata": {},
   "outputs": [],
   "source": []
  }
 ],
 "metadata": {
  "kernelspec": {
   "display_name": "base",
   "language": "python",
   "name": "python3"
  },
  "language_info": {
   "codemirror_mode": {
    "name": "ipython",
    "version": 3
   },
   "file_extension": ".py",
   "mimetype": "text/x-python",
   "name": "python",
   "nbconvert_exporter": "python",
   "pygments_lexer": "ipython3",
   "version": "3.11.5"
  }
 },
 "nbformat": 4,
 "nbformat_minor": 2
}
