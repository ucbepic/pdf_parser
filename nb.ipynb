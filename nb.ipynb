{
 "cells": [
  {
   "cell_type": "code",
   "execution_count": 1,
   "metadata": {},
   "outputs": [],
   "source": [
    "import pandas as pd\n",
    "import wikipediaapi"
   ]
  },
  {
   "cell_type": "code",
   "execution_count": 2,
   "metadata": {},
   "outputs": [],
   "source": [
    "diss_petn = pd.read_csv(\"public/motion2discharge.csv\")"
   ]
  },
  {
   "cell_type": "code",
   "execution_count": 3,
   "metadata": {},
   "outputs": [
    {
     "data": {
      "text/html": [
       "<div>\n",
       "<style scoped>\n",
       "    .dataframe tbody tr th:only-of-type {\n",
       "        vertical-align: middle;\n",
       "    }\n",
       "\n",
       "    .dataframe tbody tr th {\n",
       "        vertical-align: top;\n",
       "    }\n",
       "\n",
       "    .dataframe thead th {\n",
       "        text-align: right;\n",
       "    }\n",
       "</style>\n",
       "<table border=\"1\" class=\"dataframe\">\n",
       "  <thead>\n",
       "    <tr style=\"text-align: right;\">\n",
       "      <th></th>\n",
       "      <th>REPRESENTATIVE</th>\n",
       "      <th>STATE</th>\n",
       "      <th>DISTRICT</th>\n",
       "      <th>wiki_txt</th>\n",
       "      <th>Party</th>\n",
       "    </tr>\n",
       "  </thead>\n",
       "  <tbody>\n",
       "    <tr>\n",
       "      <th>0</th>\n",
       "      <td>James P. McGovern</td>\n",
       "      <td>Massachusetts</td>\n",
       "      <td>2</td>\n",
       "      <td>James Patrick McGovern (born November 20, 1959...</td>\n",
       "      <td>D</td>\n",
       "    </tr>\n",
       "    <tr>\n",
       "      <th>1</th>\n",
       "      <td>Gabe Vasquez</td>\n",
       "      <td>New Mexico</td>\n",
       "      <td>2</td>\n",
       "      <td>Gabriel Vasquez (born August 3, 1984) is an Am...</td>\n",
       "      <td>D</td>\n",
       "    </tr>\n",
       "    <tr>\n",
       "      <th>2</th>\n",
       "      <td>Stephen F. Lynch</td>\n",
       "      <td>Massachusetts</td>\n",
       "      <td>8</td>\n",
       "      <td>Stephen Francis Lynch (born March 31, 1955) is...</td>\n",
       "      <td>D</td>\n",
       "    </tr>\n",
       "    <tr>\n",
       "      <th>3</th>\n",
       "      <td>Matt Cartwright</td>\n",
       "      <td>Pennsylvania</td>\n",
       "      <td>8</td>\n",
       "      <td>Matthew Alton Cartwright (born May 1, 1961) is...</td>\n",
       "      <td>D</td>\n",
       "    </tr>\n",
       "    <tr>\n",
       "      <th>4</th>\n",
       "      <td>Earl Blumenauer</td>\n",
       "      <td>Oregon</td>\n",
       "      <td>3</td>\n",
       "      <td>Earl Francis Blumenauer ( BLOOM-ə-nowər; born ...</td>\n",
       "      <td>D</td>\n",
       "    </tr>\n",
       "    <tr>\n",
       "      <th>...</th>\n",
       "      <td>...</td>\n",
       "      <td>...</td>\n",
       "      <td>...</td>\n",
       "      <td>...</td>\n",
       "      <td>...</td>\n",
       "    </tr>\n",
       "    <tr>\n",
       "      <th>172</th>\n",
       "      <td>Kim Schrier</td>\n",
       "      <td>Washington</td>\n",
       "      <td>8</td>\n",
       "      <td>Kimberly Merle Schrier ( SHRIRE; born August 2...</td>\n",
       "      <td>D</td>\n",
       "    </tr>\n",
       "    <tr>\n",
       "      <th>173</th>\n",
       "      <td>Melanie A. Stansbury</td>\n",
       "      <td>New Mexico</td>\n",
       "      <td>1</td>\n",
       "      <td>Melanie Ann Stansbury (born January 31, 1979) ...</td>\n",
       "      <td>D</td>\n",
       "    </tr>\n",
       "    <tr>\n",
       "      <th>174</th>\n",
       "      <td>Steven Horsford</td>\n",
       "      <td>Nevada</td>\n",
       "      <td>4</td>\n",
       "      <td>Steven Alexzander Horsford (born April 29, 197...</td>\n",
       "      <td>D</td>\n",
       "    </tr>\n",
       "    <tr>\n",
       "      <th>175</th>\n",
       "      <td>Robert Garcia</td>\n",
       "      <td>California</td>\n",
       "      <td>42</td>\n",
       "      <td>Robert Garcia may refer to:</td>\n",
       "      <td>D</td>\n",
       "    </tr>\n",
       "    <tr>\n",
       "      <th>176</th>\n",
       "      <td>Donald Norcross</td>\n",
       "      <td>New Jersey</td>\n",
       "      <td>1</td>\n",
       "      <td>Donald W. Norcross (born December 13, 1958) is...</td>\n",
       "      <td>D</td>\n",
       "    </tr>\n",
       "  </tbody>\n",
       "</table>\n",
       "<p>177 rows × 5 columns</p>\n",
       "</div>"
      ],
      "text/plain": [
       "           REPRESENTATIVE          STATE  DISTRICT  \\\n",
       "0       James P. McGovern  Massachusetts         2   \n",
       "1            Gabe Vasquez     New Mexico         2   \n",
       "2        Stephen F. Lynch  Massachusetts         8   \n",
       "3         Matt Cartwright   Pennsylvania         8   \n",
       "4         Earl Blumenauer         Oregon         3   \n",
       "..                    ...            ...       ...   \n",
       "172           Kim Schrier     Washington         8   \n",
       "173  Melanie A. Stansbury     New Mexico         1   \n",
       "174       Steven Horsford         Nevada         4   \n",
       "175         Robert Garcia     California        42   \n",
       "176       Donald Norcross     New Jersey         1   \n",
       "\n",
       "                                              wiki_txt Party  \n",
       "0    James Patrick McGovern (born November 20, 1959...     D  \n",
       "1    Gabriel Vasquez (born August 3, 1984) is an Am...     D  \n",
       "2    Stephen Francis Lynch (born March 31, 1955) is...     D  \n",
       "3    Matthew Alton Cartwright (born May 1, 1961) is...     D  \n",
       "4    Earl Francis Blumenauer ( BLOOM-ə-nowər; born ...     D  \n",
       "..                                                 ...   ...  \n",
       "172  Kimberly Merle Schrier ( SHRIRE; born August 2...     D  \n",
       "173  Melanie Ann Stansbury (born January 31, 1979) ...     D  \n",
       "174  Steven Alexzander Horsford (born April 29, 197...     D  \n",
       "175                        Robert Garcia may refer to:     D  \n",
       "176  Donald W. Norcross (born December 13, 1958) is...     D  \n",
       "\n",
       "[177 rows x 5 columns]"
      ]
     },
     "execution_count": 3,
     "metadata": {},
     "output_type": "execute_result"
    }
   ],
   "source": [
    "diss_petn"
   ]
  },
  {
   "cell_type": "code",
   "execution_count": 5,
   "metadata": {},
   "outputs": [
    {
     "data": {
      "text/plain": [
       "177"
      ]
     },
     "execution_count": 5,
     "metadata": {},
     "output_type": "execute_result"
    }
   ],
   "source": [
    "diss_petn[diss_petn.Party == 'D']['Party'].count()"
   ]
  },
  {
   "cell_type": "code",
   "execution_count": null,
   "metadata": {},
   "outputs": [],
   "source": [
    "wiki_wiki = wikipediaapi.Wikipedia(\"QuorumFinder (rogarcia@berkeley.edu; rlnsanz.github.io)\")"
   ]
  },
  {
   "cell_type": "code",
   "execution_count": null,
   "metadata": {},
   "outputs": [],
   "source": [
    "jimMcGovern = diss_petn.REPRESENTATIVE[0]"
   ]
  },
  {
   "cell_type": "code",
   "execution_count": null,
   "metadata": {},
   "outputs": [],
   "source": [
    "page_py = wiki_wiki.page(jimMcGovern)"
   ]
  },
  {
   "cell_type": "code",
   "execution_count": null,
   "metadata": {},
   "outputs": [],
   "source": [
    "page_py.title"
   ]
  },
  {
   "cell_type": "code",
   "execution_count": null,
   "metadata": {},
   "outputs": [],
   "source": [
    "page_py.summary"
   ]
  },
  {
   "cell_type": "code",
   "execution_count": null,
   "metadata": {},
   "outputs": [],
   "source": [
    "def get_summary(member):\n",
    "    page_py = wiki_wiki.page(member)\n",
    "    if page_py.exists():\n",
    "        return page_py.summary\n",
    "    print(\"DNE\")"
   ]
  },
  {
   "cell_type": "code",
   "execution_count": null,
   "metadata": {},
   "outputs": [],
   "source": [
    "diss_petn[\"wiki_txt\"] = diss_petn.REPRESENTATIVE.apply(get_summary)"
   ]
  },
  {
   "cell_type": "code",
   "execution_count": null,
   "metadata": {},
   "outputs": [],
   "source": [
    "diss_petn"
   ]
  },
  {
   "cell_type": "markdown",
   "metadata": {},
   "source": [
    "# Verified by hand on WikiPedia"
   ]
  },
  {
   "cell_type": "code",
   "execution_count": null,
   "metadata": {},
   "outputs": [],
   "source": [
    "diss_petn.loc[diss_petn.wiki_txt.isnull(),'Party'] = 'D'"
   ]
  },
  {
   "cell_type": "code",
   "execution_count": null,
   "metadata": {},
   "outputs": [],
   "source": [
    "diss_petn[diss_petn[\"Party\"].notna()]\n"
   ]
  },
  {
   "cell_type": "code",
   "execution_count": null,
   "metadata": {},
   "outputs": [],
   "source": [
    "diss_petn"
   ]
  },
  {
   "cell_type": "code",
   "execution_count": null,
   "metadata": {},
   "outputs": [],
   "source": [
    "import re"
   ]
  },
  {
   "cell_type": "code",
   "execution_count": null,
   "metadata": {},
   "outputs": [],
   "source": [
    "# Regex pattern\n",
    "pattern = r'\\b(Democrat(ic)?|Republic(an)?|DNC|RNC|Democracy|Republican|GOP)\\sParty\\b|\\bDemocrat(ic)?\\b|\\bRepublic(an)?\\b'\n",
    "diss_petn['regex'] = diss_petn['wiki_txt'].apply(lambda x: None if x is None else re.findall(pattern, x, re.IGNORECASE))"
   ]
  },
  {
   "cell_type": "code",
   "execution_count": null,
   "metadata": {},
   "outputs": [],
   "source": [
    "diss_petn.to_csv('public/motion2discharge2.csv')"
   ]
  },
  {
   "cell_type": "code",
   "execution_count": null,
   "metadata": {},
   "outputs": [],
   "source": []
  }
 ],
 "metadata": {
  "kernelspec": {
   "display_name": "base",
   "language": "python",
   "name": "python3"
  },
  "language_info": {
   "codemirror_mode": {
    "name": "ipython",
    "version": 3
   },
   "file_extension": ".py",
   "mimetype": "text/x-python",
   "name": "python",
   "nbconvert_exporter": "python",
   "pygments_lexer": "ipython3",
   "version": "3.11.5"
  }
 },
 "nbformat": 4,
 "nbformat_minor": 2
}
