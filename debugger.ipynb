{
 "cells": [
  {
   "cell_type": "code",
   "execution_count": 11,
   "metadata": {},
   "outputs": [],
   "source": [
    "from app import PDF_DIR, TXT_DIR\n",
    "\n",
    "import os\n",
    "import re\n",
    "import sys\n",
    "import json\n",
    "import time\n",
    "import shutil"
   ]
  },
  {
   "cell_type": "code",
   "execution_count": 8,
   "metadata": {},
   "outputs": [
    {
     "name": "stdout",
     "output_type": "stream",
     "text": [
      "MVHL4CT.pdf\n",
      "p682-garcia.pdf\n",
      "StatementOfInterestASU.pdf\n",
      "george_santos_report.pdf\n",
      "MLOps_Interview_Study__CSCW24_to_32.pdf\n",
      "MLOps_Interview_Study__CSCW24_to_34.pdf\n"
     ]
    }
   ],
   "source": [
    "[print(f) for f in os.listdir(PDF_DIR)].clear()"
   ]
  },
  {
   "cell_type": "code",
   "execution_count": 12,
   "metadata": {},
   "outputs": [
    {
     "data": {
      "text/plain": [
       "'app/static/private/txts/p682-garcia/page_0.txt'"
      ]
     },
     "execution_count": 12,
     "metadata": {},
     "output_type": "execute_result"
    }
   ],
   "source": [
    "sample_txt = os.path.join(TXT_DIR, 'p682-garcia', 'page_0.txt')\n",
    "assert os.path.exists(sample_txt)\n",
    "sample_txt"
   ]
  },
  {
   "cell_type": "code",
   "execution_count": 13,
   "metadata": {},
   "outputs": [
    {
     "name": "stdout",
     "output_type": "stream",
     "text": [
      "Hindsight Logging for Model Training\n",
      "Rolando Garcia\n",
      "UC Berkeley\n",
      "rogarcia@berkeley.edu\n",
      "Eric Liu\n",
      "UC Berkeley\n",
      "rickchang@berkeley.edu\n",
      "Vikram Sreekanti\n",
      "UC Berkeley\n",
      "vikrams@berkeley.edu\n",
      "Bobby Yan\n",
      "UC Berkeley\n",
      "bobbyy@berkeley.edu\n",
      "Anusha Dandamudi\n",
      "UC Berkeley\n",
      "adandamudi@berkeley.edu\n",
      "Joseph E. Gonzalez\n",
      "UC Berkeley\n",
      "jegonzal@berkeley.edu\n",
      "Joseph M. Hellerstein\n",
      "UC Berkeley\n",
      "hellerstein@berkeley.edu\n",
      "Koushik Sen\n",
      "UC Berkeley\n",
      "ksen@berkeley.edu\n",
      "ABSTRACT\n",
      "In modern Machine Learning, model training is an iterative, experi-\n",
      "mental process that can consume enormous computation resources\n",
      "and developer time. To aid in that process, experienced model de-\n",
      "velopers log and visualize program variables during training runs.\n",
      "Exhaustive logging of all variables is infeasible, so developers are\n",
      "left to choose between slowing down training via extensive conser-\n",
      "vative logging, or letting training run fast via minimalist optimistic\n",
      "logging that may omit key information. As a compromise, opti-\n",
      "mistic logging can be accompanied by program checkpoints; this\n",
      "allows developers to add log statements post-hoc, and “replay” de-\n",
      "sired log statements from checkpoint—a process we refer to as\n",
      "hindsight logging. Unfortunately, hindsight logging raises tricky\n",
      "problems in data management and software engineering. Done\n",
      "poorly, hindsight logging can waste resources and generate tech-\n",
      "nical debt embodied in multiple variants of training code. In this\n",
      "paper, we present methodologies for efficient and effective logging\n",
      "practices for model training, with a focus on techniques for hind-\n",
      "sight logging. Our goal is for experienced model developers to learn\n",
      "and adopt these practices. To make this easier, we provide an open-\n",
      "source suite of tools for Fast Low-Overhead Recovery (flor) that\n",
      "embodies our design across three tasks: (i) efficient background\n",
      "logging in Python, (ii) adaptive periodic checkpointing, and (iii) an\n",
      "instrumentation library that codifies hindsight logging for efficient\n",
      "and automatic record-replay of model-training. Model developers\n",
      "can use each flor tool separately as they see fit, or they can use\n",
      "flor in hands-free mode, entrusting it to instrument their code\n",
      "end-to-end for efficient record-replay. Our solutions leverage tech-\n",
      "niques from physiological transaction logs and recovery in database\n",
      "systems. Evaluations on modern ML benchmarks demonstrate that\n",
      "flor can produce fast checkpointing with small user-specifiable\n",
      "overheads (e.g. 7%), and still provide hindsight log replay times\n",
      "orders of magnitude faster than restarting training from scratch.\n",
      "PVLDB Reference Format:\n",
      "Rolando Garcia, Eric Liu, Vikram Sreekanti, Bobby Yan, Anusha\n",
      "Dandamudi, Joseph E. Gonzalez, Joseph M. Hellerstein, and Koushik Sen.\n",
      "Hindsight Logging for Model Training. PVLDB, 14(4): 682-693, 2021.\n",
      "doi:10.14778/3436905.3436925\n",
      "This work is licensed under the Creative Commons BY-NC-ND 4.0 International\n",
      "License. Visit https://creativecommons.org/licenses/by-nc-nd/4.0/ to view a copy of\n",
      "this license. For any use beyond those covered by this license, obtain permission by\n",
      "PVLDB Artifact Availability:\n",
      "The source code, data, and/or other artifacts have been made available at\n",
      "https://github.com/ucbrise/flor.\n",
      "1\n",
      "INTRODUCTION\n",
      "Due to the growing scale and complexity of sophisticated mod-\n",
      "els [13, 42, 54], exploratory model development increasingly poses\n",
      "data management problems [51]. At every step of exploration,\n",
      "model developers routinely track and visualize time series data\n",
      "to diagnose common training problems such as exploding/vanish-\n",
      "ing gradients [18], dead ReLUs [31], and reward hacking [5]. Model\n",
      "developers use state-of-the-art loggers specialized to machine learn-\n",
      "ing (e.g. TensorBoard [15], and WandB [3]) to efficiently trace and\n",
      "visualize data as it changes over time. The following are common\n",
      "examples of times series data logged in model training:\n",
      "• Training Metrics: The loss, accuracy, learning rate, and\n",
      "other metrics as they change over time.\n",
      "• Tensor Histograms: Histograms of weights, gradients, ac-\n",
      "tivations, and other tensors as they change over time.\n",
      "• Images & Overlays: Segmentation masks, bounding boxes,\n",
      "embeddings, and other transformed images as they change\n",
      "over time.\n",
      "In our experience, all model developers log some training metrics by\n",
      "default. Whether their logging practice is conservative or optimistic\n",
      "depends on whether they log additional training data by default.\n",
      "Next, we illustrate the relevant differences between conservative\n",
      "and optimistic logging, with the aid of three fictitious characters:\n",
      "Mike for methodical conservative logging, Chuck for ad-hoc opti-\n",
      "mistic logging, and Judy for methodical optimistic logging.\n",
      "1.1\n",
      "Conservative Logging\n",
      "Conservative logging is eager and characterized by stable expec-\n",
      "tations about what data (and how much of it) will be necessary\n",
      "for analysis [62]. It is especially well-suited to later stages of the\n",
      "machine learning lifecycle, where models are periodically trained\n",
      "emailing info@vldb.org. Copyright is held by the owner/author(s). Publication rights\n",
      "licensed to the VLDB Endowment.\n",
      "Proceedings of the VLDB Endowment, Vol. 14, No. 4 ISSN 2150-8097.\n",
      "doi:10.14778/3436905.3436925\n",
      "682\n"
     ]
    }
   ],
   "source": [
    "!cat {sample_txt}"
   ]
  },
  {
   "cell_type": "code",
   "execution_count": 14,
   "metadata": {},
   "outputs": [
    {
     "data": {
      "text/plain": [
       "['7',\n",
       " '14',\n",
       " '4',\n",
       " '682',\n",
       " '693',\n",
       " '2021',\n",
       " '10',\n",
       " '14778',\n",
       " '3436905',\n",
       " '3436925',\n",
       " '4',\n",
       " '0',\n",
       " '4',\n",
       " '0',\n",
       " '1',\n",
       " '13',\n",
       " '42',\n",
       " '54',\n",
       " '51',\n",
       " '18',\n",
       " '31',\n",
       " '5',\n",
       " '15',\n",
       " '3',\n",
       " '1',\n",
       " '1',\n",
       " '62',\n",
       " '14',\n",
       " '4',\n",
       " '2150',\n",
       " '8097',\n",
       " '10',\n",
       " '14778',\n",
       " '3436905',\n",
       " '3436925',\n",
       " '682']"
      ]
     },
     "execution_count": 14,
     "metadata": {},
     "output_type": "execute_result"
    }
   ],
   "source": [
    "def analyze_text(text_file):\n",
    "    with open(text_file, 'r') as file:\n",
    "        text = file.read()\n",
    "\n",
    "    # Example pattern for detecting headings (e.g., all caps)\n",
    "    headings = re.findall(r'^[A-Z\\s]+$', text, re.MULTILINE)\n",
    "\n",
    "    # Example pattern for detecting page numbers\n",
    "    page_numbers = re.findall(r'\\b\\d+\\b', text)  # Simplistic; needs refinement\n",
    "\n",
    "    # Other analysis can be added here\n",
    "\n",
    "    return headings, page_numbers\n",
    "\n",
    "# Example usage\n",
    "headings, page_numbers = analyze_text(sample_txt)\n",
    "page_numbers"
   ]
  },
  {
   "cell_type": "code",
   "execution_count": 15,
   "metadata": {},
   "outputs": [
    {
     "data": {
      "text/plain": [
       "['ABSTRACT', 'INTRODUCTION']"
      ]
     },
     "execution_count": 15,
     "metadata": {},
     "output_type": "execute_result"
    }
   ],
   "source": [
    "headings"
   ]
  },
  {
   "cell_type": "code",
   "execution_count": null,
   "metadata": {},
   "outputs": [],
   "source": []
  }
 ],
 "metadata": {
  "kernelspec": {
   "display_name": "fuzzy-goggles",
   "language": "python",
   "name": "python3"
  },
  "language_info": {
   "codemirror_mode": {
    "name": "ipython",
    "version": 3
   },
   "file_extension": ".py",
   "mimetype": "text/x-python",
   "name": "python",
   "nbconvert_exporter": "python",
   "pygments_lexer": "ipython3",
   "version": "3.10.13"
  }
 },
 "nbformat": 4,
 "nbformat_minor": 2
}
