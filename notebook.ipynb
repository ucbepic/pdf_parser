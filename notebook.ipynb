{
 "cells": [
  {
   "cell_type": "code",
   "execution_count": 2,
   "metadata": {},
   "outputs": [],
   "source": [
    "import flor\n",
    "from app import config as c"
   ]
  },
  {
   "cell_type": "code",
   "execution_count": 3,
   "metadata": {},
   "outputs": [
    {
     "data": {
      "text/html": [
       "<div>\n",
       "<style scoped>\n",
       "    .dataframe tbody tr th:only-of-type {\n",
       "        vertical-align: middle;\n",
       "    }\n",
       "\n",
       "    .dataframe tbody tr th {\n",
       "        vertical-align: top;\n",
       "    }\n",
       "\n",
       "    .dataframe thead th {\n",
       "        text-align: right;\n",
       "    }\n",
       "</style>\n",
       "<table border=\"1\" class=\"dataframe\">\n",
       "  <thead>\n",
       "    <tr style=\"text-align: right;\">\n",
       "      <th></th>\n",
       "      <th>document</th>\n",
       "      <th>page</th>\n",
       "      <th>projid</th>\n",
       "      <th>tstamp</th>\n",
       "      <th>filename</th>\n",
       "      <th>first_page</th>\n",
       "      <th>page_path</th>\n",
       "    </tr>\n",
       "  </thead>\n",
       "  <tbody>\n",
       "    <tr>\n",
       "      <th>0</th>\n",
       "      <td>1</td>\n",
       "      <td>1</td>\n",
       "      <td>pdf_parser</td>\n",
       "      <td>2024-02-13 13:24:18</td>\n",
       "      <td>label_by_hand.py</td>\n",
       "      <td>1</td>\n",
       "      <td>app/static/private/imgs/6-Complaint__Judgment/...</td>\n",
       "    </tr>\n",
       "    <tr>\n",
       "      <th>1</th>\n",
       "      <td>1</td>\n",
       "      <td>2</td>\n",
       "      <td>pdf_parser</td>\n",
       "      <td>2024-02-13 13:24:18</td>\n",
       "      <td>label_by_hand.py</td>\n",
       "      <td>0</td>\n",
       "      <td>app/static/private/imgs/6-Complaint__Judgment/...</td>\n",
       "    </tr>\n",
       "    <tr>\n",
       "      <th>2</th>\n",
       "      <td>1</td>\n",
       "      <td>3</td>\n",
       "      <td>pdf_parser</td>\n",
       "      <td>2024-02-13 13:24:18</td>\n",
       "      <td>label_by_hand.py</td>\n",
       "      <td>0</td>\n",
       "      <td>app/static/private/imgs/6-Complaint__Judgment/...</td>\n",
       "    </tr>\n",
       "    <tr>\n",
       "      <th>3</th>\n",
       "      <td>1</td>\n",
       "      <td>4</td>\n",
       "      <td>pdf_parser</td>\n",
       "      <td>2024-02-13 13:24:18</td>\n",
       "      <td>label_by_hand.py</td>\n",
       "      <td>0</td>\n",
       "      <td>app/static/private/imgs/6-Complaint__Judgment/...</td>\n",
       "    </tr>\n",
       "    <tr>\n",
       "      <th>4</th>\n",
       "      <td>1</td>\n",
       "      <td>5</td>\n",
       "      <td>pdf_parser</td>\n",
       "      <td>2024-02-13 13:24:18</td>\n",
       "      <td>label_by_hand.py</td>\n",
       "      <td>0</td>\n",
       "      <td>app/static/private/imgs/6-Complaint__Judgment/...</td>\n",
       "    </tr>\n",
       "    <tr>\n",
       "      <th>...</th>\n",
       "      <td>...</td>\n",
       "      <td>...</td>\n",
       "      <td>...</td>\n",
       "      <td>...</td>\n",
       "      <td>...</td>\n",
       "      <td>...</td>\n",
       "      <td>...</td>\n",
       "    </tr>\n",
       "    <tr>\n",
       "      <th>229</th>\n",
       "      <td>6</td>\n",
       "      <td>52</td>\n",
       "      <td>pdf_parser</td>\n",
       "      <td>2024-02-13 13:24:18</td>\n",
       "      <td>label_by_hand.py</td>\n",
       "      <td>0</td>\n",
       "      <td>app/static/private/imgs/george_santos_report/p...</td>\n",
       "    </tr>\n",
       "    <tr>\n",
       "      <th>230</th>\n",
       "      <td>6</td>\n",
       "      <td>53</td>\n",
       "      <td>pdf_parser</td>\n",
       "      <td>2024-02-13 13:24:18</td>\n",
       "      <td>label_by_hand.py</td>\n",
       "      <td>0</td>\n",
       "      <td>app/static/private/imgs/george_santos_report/p...</td>\n",
       "    </tr>\n",
       "    <tr>\n",
       "      <th>231</th>\n",
       "      <td>6</td>\n",
       "      <td>54</td>\n",
       "      <td>pdf_parser</td>\n",
       "      <td>2024-02-13 13:24:18</td>\n",
       "      <td>label_by_hand.py</td>\n",
       "      <td>0</td>\n",
       "      <td>app/static/private/imgs/george_santos_report/p...</td>\n",
       "    </tr>\n",
       "    <tr>\n",
       "      <th>232</th>\n",
       "      <td>6</td>\n",
       "      <td>55</td>\n",
       "      <td>pdf_parser</td>\n",
       "      <td>2024-02-13 13:24:18</td>\n",
       "      <td>label_by_hand.py</td>\n",
       "      <td>0</td>\n",
       "      <td>app/static/private/imgs/george_santos_report/p...</td>\n",
       "    </tr>\n",
       "    <tr>\n",
       "      <th>233</th>\n",
       "      <td>6</td>\n",
       "      <td>56</td>\n",
       "      <td>pdf_parser</td>\n",
       "      <td>2024-02-13 13:24:18</td>\n",
       "      <td>label_by_hand.py</td>\n",
       "      <td>0</td>\n",
       "      <td>app/static/private/imgs/george_santos_report/p...</td>\n",
       "    </tr>\n",
       "  </tbody>\n",
       "</table>\n",
       "<p>234 rows × 7 columns</p>\n",
       "</div>"
      ],
      "text/plain": [
       "     document  page      projid              tstamp          filename  \\\n",
       "0           1     1  pdf_parser 2024-02-13 13:24:18  label_by_hand.py   \n",
       "1           1     2  pdf_parser 2024-02-13 13:24:18  label_by_hand.py   \n",
       "2           1     3  pdf_parser 2024-02-13 13:24:18  label_by_hand.py   \n",
       "3           1     4  pdf_parser 2024-02-13 13:24:18  label_by_hand.py   \n",
       "4           1     5  pdf_parser 2024-02-13 13:24:18  label_by_hand.py   \n",
       "..        ...   ...         ...                 ...               ...   \n",
       "229         6    52  pdf_parser 2024-02-13 13:24:18  label_by_hand.py   \n",
       "230         6    53  pdf_parser 2024-02-13 13:24:18  label_by_hand.py   \n",
       "231         6    54  pdf_parser 2024-02-13 13:24:18  label_by_hand.py   \n",
       "232         6    55  pdf_parser 2024-02-13 13:24:18  label_by_hand.py   \n",
       "233         6    56  pdf_parser 2024-02-13 13:24:18  label_by_hand.py   \n",
       "\n",
       "    first_page                                          page_path  \n",
       "0            1  app/static/private/imgs/6-Complaint__Judgment/...  \n",
       "1            0  app/static/private/imgs/6-Complaint__Judgment/...  \n",
       "2            0  app/static/private/imgs/6-Complaint__Judgment/...  \n",
       "3            0  app/static/private/imgs/6-Complaint__Judgment/...  \n",
       "4            0  app/static/private/imgs/6-Complaint__Judgment/...  \n",
       "..         ...                                                ...  \n",
       "229          0  app/static/private/imgs/george_santos_report/p...  \n",
       "230          0  app/static/private/imgs/george_santos_report/p...  \n",
       "231          0  app/static/private/imgs/george_santos_report/p...  \n",
       "232          0  app/static/private/imgs/george_santos_report/p...  \n",
       "233          0  app/static/private/imgs/george_santos_report/p...  \n",
       "\n",
       "[234 rows x 7 columns]"
      ]
     },
     "execution_count": 3,
     "metadata": {},
     "output_type": "execute_result"
    }
   ],
   "source": [
    "infer = flor.dataframe(c.first_page, c.page_path)\n",
    "infer"
   ]
  },
  {
   "cell_type": "code",
   "execution_count": null,
   "metadata": {},
   "outputs": [],
   "source": [
    "webapp = flor.utils.latest(flor.dataframe(c.pdf_name, c.page_color))\n",
    "webapp"
   ]
  },
  {
   "cell_type": "code",
   "execution_count": null,
   "metadata": {},
   "outputs": [],
   "source": [
    "import os\n",
    "\n",
    "# get basename of page_path\n",
    "infer['page_path'] = infer['page_path'].map(lambda x: os.path.basename(os.path.dirname(x)))\n",
    "infer"
   ]
  },
  {
   "cell_type": "code",
   "execution_count": null,
   "metadata": {},
   "outputs": [],
   "source": [
    "webapp['pdf_name'] = webapp['pdf_name'].map(lambda x: os.path.splitext(x)[0])\n",
    "webapp"
   ]
  },
  {
   "cell_type": "code",
   "execution_count": null,
   "metadata": {},
   "outputs": [],
   "source": [
    "merged_df = webapp.merge(infer, left_on=['projid', 'pdf_name', 'page'], right_on=['projid','page_path', 'page'])\n",
    "merged_df.columns"
   ]
  },
  {
   "cell_type": "code",
   "execution_count": null,
   "metadata": {},
   "outputs": [],
   "source": [
    "selected_cols = ['projid',  'pdf_name', 'page',  'tstamp_x', 'filename_x', 'tstamp_y', 'filename_y',  'first_page', 'page_color']\n",
    "merged_df = merged_df[selected_cols]\n",
    "merged_df"
   ]
  },
  {
   "cell_type": "code",
   "execution_count": null,
   "metadata": {},
   "outputs": [],
   "source": [
    "merged_df['page_color'].astype(int).to_numpy()"
   ]
  },
  {
   "cell_type": "code",
   "execution_count": null,
   "metadata": {},
   "outputs": [],
   "source": [
    "(merged_df['page_color'].shift() != merged_df['page_color']).astype(int).to_numpy()"
   ]
  },
  {
   "cell_type": "code",
   "execution_count": 19,
   "metadata": {},
   "outputs": [],
   "source": [
    "merged_df['first_page_infer'] = merged_df['first_page']\n",
    "merged_df['first_page_webapp'] = (merged_df['page_color'].shift() != merged_df['page_color']).astype(int).to_numpy()"
   ]
  },
  {
   "cell_type": "code",
   "execution_count": null,
   "metadata": {},
   "outputs": [],
   "source": [
    "merged_df"
   ]
  },
  {
   "cell_type": "code",
   "execution_count": null,
   "metadata": {},
   "outputs": [],
   "source": [
    "any(merged_df['tstamp_x'].drop_duplicates() > merged_df['tstamp_y'].drop_duplicates())"
   ]
  },
  {
   "cell_type": "code",
   "execution_count": null,
   "metadata": {},
   "outputs": [],
   "source": [
    "# Check timestamps,\n",
    "if any(merged_df['tstamp_x'].drop_duplicates() > merged_df['tstamp_y'].drop_duplicates()):\n",
    "    # if the timestamp of webapp is greater, return first_page_webapp\n",
    "    merged_df['first_page'] = merged_df['first_page_webapp']\n",
    "else:\n",
    "    # else return first_page_infer\n",
    "    merged_df['first_page'] = merged_df['first_page_infer']\n",
    "\n",
    "merged_df"
   ]
  }
 ],
 "metadata": {
  "kernelspec": {
   "display_name": "fuzzy-goggles",
   "language": "python",
   "name": "python3"
  },
  "language_info": {
   "codemirror_mode": {
    "name": "ipython",
    "version": 3
   },
   "file_extension": ".py",
   "mimetype": "text/x-python",
   "name": "python",
   "nbconvert_exporter": "python",
   "pygments_lexer": "ipython3",
   "version": "3.11.5"
  }
 },
 "nbformat": 4,
 "nbformat_minor": 2
}
