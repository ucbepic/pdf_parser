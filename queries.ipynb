{
 "cells": [
  {
   "cell_type": "code",
   "execution_count": 4,
   "metadata": {
    "scrolled": false
   },
   "outputs": [
    {
     "data": {
      "text/html": [
       "<div>\n",
       "<style scoped>\n",
       "    .dataframe tbody tr th:only-of-type {\n",
       "        vertical-align: middle;\n",
       "    }\n",
       "\n",
       "    .dataframe tbody tr th {\n",
       "        vertical-align: top;\n",
       "    }\n",
       "\n",
       "    .dataframe thead th {\n",
       "        text-align: right;\n",
       "    }\n",
       "</style>\n",
       "<table border=\"1\" class=\"dataframe\">\n",
       "  <thead>\n",
       "    <tr style=\"text-align: right;\">\n",
       "      <th></th>\n",
       "      <th>document</th>\n",
       "      <th>document_value</th>\n",
       "      <th>page</th>\n",
       "      <th>name_word</th>\n",
       "      <th>projid</th>\n",
       "      <th>tstamp</th>\n",
       "      <th>filename</th>\n",
       "      <th>c_left</th>\n",
       "      <th>c_top</th>\n",
       "      <th>c_width</th>\n",
       "      <th>c_height</th>\n",
       "      <th>c_text</th>\n",
       "    </tr>\n",
       "  </thead>\n",
       "  <tbody>\n",
       "    <tr>\n",
       "      <th>0</th>\n",
       "      <td>1</td>\n",
       "      <td>6-Complaint__Judgment.pdf</td>\n",
       "      <td>1</td>\n",
       "      <td>1</td>\n",
       "      <td>court-records-processing</td>\n",
       "      <td>2024-05-11 10:45:24</td>\n",
       "      <td>case_file_processer.py</td>\n",
       "      <td>447</td>\n",
       "      <td>493</td>\n",
       "      <td>403</td>\n",
       "      <td>60</td>\n",
       "      <td>JERMAINE</td>\n",
       "    </tr>\n",
       "    <tr>\n",
       "      <th>1</th>\n",
       "      <td>1</td>\n",
       "      <td>6-Complaint__Judgment.pdf</td>\n",
       "      <td>1</td>\n",
       "      <td>2</td>\n",
       "      <td>court-records-processing</td>\n",
       "      <td>2024-05-11 10:45:24</td>\n",
       "      <td>case_file_processer.py</td>\n",
       "      <td>877</td>\n",
       "      <td>490</td>\n",
       "      <td>270</td>\n",
       "      <td>63</td>\n",
       "      <td>LYONS</td>\n",
       "    </tr>\n",
       "    <tr>\n",
       "      <th>2</th>\n",
       "      <td>1</td>\n",
       "      <td>6-Complaint__Judgment.pdf</td>\n",
       "      <td>1</td>\n",
       "      <td>3</td>\n",
       "      <td>court-records-processing</td>\n",
       "      <td>2024-05-11 10:45:24</td>\n",
       "      <td>case_file_processer.py</td>\n",
       "      <td>2322</td>\n",
       "      <td>490</td>\n",
       "      <td>80</td>\n",
       "      <td>58</td>\n",
       "      <td>IN</td>\n",
       "    </tr>\n",
       "    <tr>\n",
       "      <th>3</th>\n",
       "      <td>1</td>\n",
       "      <td>6-Complaint__Judgment.pdf</td>\n",
       "      <td>1</td>\n",
       "      <td>4</td>\n",
       "      <td>court-records-processing</td>\n",
       "      <td>2024-05-11 10:45:24</td>\n",
       "      <td>case_file_processer.py</td>\n",
       "      <td>2427</td>\n",
       "      <td>487</td>\n",
       "      <td>160</td>\n",
       "      <td>61</td>\n",
       "      <td>THE</td>\n",
       "    </tr>\n",
       "    <tr>\n",
       "      <th>4</th>\n",
       "      <td>1</td>\n",
       "      <td>6-Complaint__Judgment.pdf</td>\n",
       "      <td>1</td>\n",
       "      <td>5</td>\n",
       "      <td>court-records-processing</td>\n",
       "      <td>2024-05-11 10:45:24</td>\n",
       "      <td>case_file_processer.py</td>\n",
       "      <td>457</td>\n",
       "      <td>588</td>\n",
       "      <td>150</td>\n",
       "      <td>60</td>\n",
       "      <td>1306</td>\n",
       "    </tr>\n",
       "    <tr>\n",
       "      <th>...</th>\n",
       "      <td>...</td>\n",
       "      <td>...</td>\n",
       "      <td>...</td>\n",
       "      <td>...</td>\n",
       "      <td>...</td>\n",
       "      <td>...</td>\n",
       "      <td>...</td>\n",
       "      <td>...</td>\n",
       "      <td>...</td>\n",
       "      <td>...</td>\n",
       "      <td>...</td>\n",
       "      <td>...</td>\n",
       "    </tr>\n",
       "    <tr>\n",
       "      <th>47376</th>\n",
       "      <td>5</td>\n",
       "      <td>AmericanHistoriansAmicus.pdf</td>\n",
       "      <td>44</td>\n",
       "      <td>33</td>\n",
       "      <td>court-records-processing</td>\n",
       "      <td>2024-05-11 10:45:24</td>\n",
       "      <td>case_file_processer.py</td>\n",
       "      <td>1756</td>\n",
       "      <td>2171</td>\n",
       "      <td>207</td>\n",
       "      <td>56</td>\n",
       "      <td>Amici</td>\n",
       "    </tr>\n",
       "    <tr>\n",
       "      <th>47377</th>\n",
       "      <td>5</td>\n",
       "      <td>AmericanHistoriansAmicus.pdf</td>\n",
       "      <td>44</td>\n",
       "      <td>34</td>\n",
       "      <td>court-records-processing</td>\n",
       "      <td>2024-05-11 10:45:24</td>\n",
       "      <td>case_file_processer.py</td>\n",
       "      <td>1994</td>\n",
       "      <td>2169</td>\n",
       "      <td>230</td>\n",
       "      <td>58</td>\n",
       "      <td>Curiae</td>\n",
       "    </tr>\n",
       "    <tr>\n",
       "      <th>47378</th>\n",
       "      <td>5</td>\n",
       "      <td>AmericanHistoriansAmicus.pdf</td>\n",
       "      <td>44</td>\n",
       "      <td>35</td>\n",
       "      <td>court-records-processing</td>\n",
       "      <td>2024-05-11 10:45:24</td>\n",
       "      <td>case_file_processer.py</td>\n",
       "      <td>1090</td>\n",
       "      <td>2355</td>\n",
       "      <td>294</td>\n",
       "      <td>70</td>\n",
       "      <td>January</td>\n",
       "    </tr>\n",
       "    <tr>\n",
       "      <th>47379</th>\n",
       "      <td>5</td>\n",
       "      <td>AmericanHistoriansAmicus.pdf</td>\n",
       "      <td>44</td>\n",
       "      <td>36</td>\n",
       "      <td>court-records-processing</td>\n",
       "      <td>2024-05-11 10:45:24</td>\n",
       "      <td>case_file_processer.py</td>\n",
       "      <td>1410</td>\n",
       "      <td>2357</td>\n",
       "      <td>96</td>\n",
       "      <td>66</td>\n",
       "      <td>29,</td>\n",
       "    </tr>\n",
       "    <tr>\n",
       "      <th>47380</th>\n",
       "      <td>5</td>\n",
       "      <td>AmericanHistoriansAmicus.pdf</td>\n",
       "      <td>44</td>\n",
       "      <td>37</td>\n",
       "      <td>court-records-processing</td>\n",
       "      <td>2024-05-11 10:45:24</td>\n",
       "      <td>case_file_processer.py</td>\n",
       "      <td>1538</td>\n",
       "      <td>2357</td>\n",
       "      <td>163</td>\n",
       "      <td>54</td>\n",
       "      <td>2024</td>\n",
       "    </tr>\n",
       "  </tbody>\n",
       "</table>\n",
       "<p>47381 rows × 12 columns</p>\n",
       "</div>"
      ],
      "text/plain": [
       "       document                document_value  page  name_word  \\\n",
       "0             1     6-Complaint__Judgment.pdf     1          1   \n",
       "1             1     6-Complaint__Judgment.pdf     1          2   \n",
       "2             1     6-Complaint__Judgment.pdf     1          3   \n",
       "3             1     6-Complaint__Judgment.pdf     1          4   \n",
       "4             1     6-Complaint__Judgment.pdf     1          5   \n",
       "...         ...                           ...   ...        ...   \n",
       "47376         5  AmericanHistoriansAmicus.pdf    44         33   \n",
       "47377         5  AmericanHistoriansAmicus.pdf    44         34   \n",
       "47378         5  AmericanHistoriansAmicus.pdf    44         35   \n",
       "47379         5  AmericanHistoriansAmicus.pdf    44         36   \n",
       "47380         5  AmericanHistoriansAmicus.pdf    44         37   \n",
       "\n",
       "                         projid              tstamp                filename  \\\n",
       "0      court-records-processing 2024-05-11 10:45:24  case_file_processer.py   \n",
       "1      court-records-processing 2024-05-11 10:45:24  case_file_processer.py   \n",
       "2      court-records-processing 2024-05-11 10:45:24  case_file_processer.py   \n",
       "3      court-records-processing 2024-05-11 10:45:24  case_file_processer.py   \n",
       "4      court-records-processing 2024-05-11 10:45:24  case_file_processer.py   \n",
       "...                         ...                 ...                     ...   \n",
       "47376  court-records-processing 2024-05-11 10:45:24  case_file_processer.py   \n",
       "47377  court-records-processing 2024-05-11 10:45:24  case_file_processer.py   \n",
       "47378  court-records-processing 2024-05-11 10:45:24  case_file_processer.py   \n",
       "47379  court-records-processing 2024-05-11 10:45:24  case_file_processer.py   \n",
       "47380  court-records-processing 2024-05-11 10:45:24  case_file_processer.py   \n",
       "\n",
       "      c_left c_top c_width c_height    c_text  \n",
       "0        447   493     403       60  JERMAINE  \n",
       "1        877   490     270       63     LYONS  \n",
       "2       2322   490      80       58        IN  \n",
       "3       2427   487     160       61       THE  \n",
       "4        457   588     150       60      1306  \n",
       "...      ...   ...     ...      ...       ...  \n",
       "47376   1756  2171     207       56     Amici  \n",
       "47377   1994  2169     230       58    Curiae  \n",
       "47378   1090  2355     294       70   January  \n",
       "47379   1410  2357      96       66       29,  \n",
       "47380   1538  2357     163       54      2024  \n",
       "\n",
       "[47381 rows x 12 columns]"
      ]
     },
     "execution_count": 4,
     "metadata": {},
     "output_type": "execute_result"
    }
   ],
   "source": [
    "import flor\n",
    "flor.dataframe(\"c_left\", \"c_top\", \"c_width\", \"c_height\", \"c_text\")"
   ]
  },
  {
   "cell_type": "code",
   "execution_count": null,
   "metadata": {},
   "outputs": [],
   "source": [
    "import flor\n",
    "import pandas as pd"
   ]
  },
  {
   "cell_type": "code",
   "execution_count": null,
   "metadata": {},
   "outputs": [],
   "source": [
    "(df := flor.dataframe(\"first_page\", \"page_color\"))"
   ]
  },
  {
   "cell_type": "code",
   "execution_count": null,
   "metadata": {},
   "outputs": [],
   "source": [
    "(df := df[['projid', 'tstamp', 'filename', 'document_value', 'page', 'first_page', 'page_color']])"
   ]
  },
  {
   "cell_type": "code",
   "execution_count": null,
   "metadata": {},
   "outputs": [],
   "source": [
    "# df sorty by tstamp, page \n",
    "(df := df.sort_values(by=['tstamp', 'filename', 'document_value', 'page']))"
   ]
  },
  {
   "cell_type": "code",
   "execution_count": null,
   "metadata": {},
   "outputs": [],
   "source": [
    "(df := df[['projid', 'filename', 'tstamp', 'document_value', 'page', 'first_page', 'page_color']])"
   ]
  },
  {
   "cell_type": "code",
   "execution_count": null,
   "metadata": {},
   "outputs": [],
   "source": [
    "flor.dataframe(\"page_color\")"
   ]
  },
  {
   "cell_type": "code",
   "execution_count": null,
   "metadata": {},
   "outputs": [],
   "source": [
    "flor.dataframe(\"first_page\")"
   ]
  },
  {
   "cell_type": "code",
   "execution_count": null,
   "metadata": {},
   "outputs": [],
   "source": [
    "flor.dataframe('merge-source', 'merged-text')"
   ]
  },
  {
   "cell_type": "code",
   "execution_count": null,
   "metadata": {},
   "outputs": [],
   "source": [
    "df = flor.dataframe(\n",
    "            \"txt-headings\",\n",
    "            \"txt-page_numbers\",\n",
    "            \"ocr-headings\",\n",
    "            \"ocr-page_numbers\",\n",
    "            \"merge-source\",\n",
    "            \"merged-text\",\n",
    ")\n",
    "df"
   ]
  },
  {
   "cell_type": "code",
   "execution_count": null,
   "metadata": {},
   "outputs": [],
   "source": [
    "df = df[['projid', 'tstamp', 'filename', 'document_value', 'page', 'ocr-headings', 'ocr-page_numbers', 'merge-source', 'merged-text']]\n",
    "df"
   ]
  },
  {
   "cell_type": "code",
   "execution_count": null,
   "metadata": {},
   "outputs": [],
   "source": [
    "df = df[df['merge-source'] == 'ocr']\n",
    "df"
   ]
  },
  {
   "cell_type": "code",
   "execution_count": null,
   "metadata": {
    "tags": []
   },
   "outputs": [],
   "source": [
    "df.head()"
   ]
  },
  {
   "cell_type": "code",
   "execution_count": null,
   "metadata": {
    "tags": []
   },
   "outputs": [],
   "source": [
    "df = df.rename(columns={'document_value': 'document', 'ocr_headings': 'headings', 'ocr-page_numbers': 'page_numbers', 'merge-source': 'text_src', 'merged-text': 'page_text'})\n",
    "df"
   ]
  },
  {
   "cell_type": "code",
   "execution_count": null,
   "metadata": {},
   "outputs": [],
   "source": [
    "pd.concat([df.head(), pd.DataFrame([['*'] * len(df.columns)], columns=df.columns, index=['*']), df.tail()])"
   ]
  },
  {
   "cell_type": "code",
   "execution_count": null,
   "metadata": {},
   "outputs": [],
   "source": []
  },
  {
   "cell_type": "code",
   "execution_count": null,
   "metadata": {},
   "outputs": [],
   "source": []
  }
 ],
 "metadata": {
  "kernelspec": {
   "display_name": "Python 3 (ipykernel)",
   "language": "python",
   "name": "python3"
  },
  "language_info": {
   "codemirror_mode": {
    "name": "ipython",
    "version": 3
   },
   "file_extension": ".py",
   "mimetype": "text/x-python",
   "name": "python",
   "nbconvert_exporter": "python",
   "pygments_lexer": "ipython3",
   "version": "3.11.5"
  }
 },
 "nbformat": 4,
 "nbformat_minor": 4
}
