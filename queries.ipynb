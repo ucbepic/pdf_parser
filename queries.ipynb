{
 "cells": [
  {
   "cell_type": "code",
   "execution_count": 1,
   "metadata": {
    "scrolled": false
   },
   "outputs": [
    {
     "data": {
      "text/html": [
       "<div>\n",
       "<style scoped>\n",
       "    .dataframe tbody tr th:only-of-type {\n",
       "        vertical-align: middle;\n",
       "    }\n",
       "\n",
       "    .dataframe tbody tr th {\n",
       "        vertical-align: top;\n",
       "    }\n",
       "\n",
       "    .dataframe thead th {\n",
       "        text-align: right;\n",
       "    }\n",
       "</style>\n",
       "<table border=\"1\" class=\"dataframe\">\n",
       "  <thead>\n",
       "    <tr style=\"text-align: right;\">\n",
       "      <th></th>\n",
       "      <th>document</th>\n",
       "      <th>document_value</th>\n",
       "      <th>page</th>\n",
       "      <th>page_value</th>\n",
       "      <th>projid</th>\n",
       "      <th>tstamp</th>\n",
       "      <th>filename</th>\n",
       "      <th>first_page</th>\n",
       "      <th>page_color</th>\n",
       "    </tr>\n",
       "  </thead>\n",
       "  <tbody>\n",
       "    <tr>\n",
       "      <th>0</th>\n",
       "      <td>1</td>\n",
       "      <td>6-Complaint__Judgment</td>\n",
       "      <td>1</td>\n",
       "      <td>0</td>\n",
       "      <td>pdf_parser</td>\n",
       "      <td>2024-05-08 10:36:29</td>\n",
       "      <td>label_by_hand.py</td>\n",
       "      <td>1</td>\n",
       "      <td>NaN</td>\n",
       "    </tr>\n",
       "    <tr>\n",
       "      <th>1</th>\n",
       "      <td>1</td>\n",
       "      <td>6-Complaint__Judgment</td>\n",
       "      <td>2</td>\n",
       "      <td>1</td>\n",
       "      <td>pdf_parser</td>\n",
       "      <td>2024-05-08 10:36:29</td>\n",
       "      <td>label_by_hand.py</td>\n",
       "      <td>0</td>\n",
       "      <td>NaN</td>\n",
       "    </tr>\n",
       "    <tr>\n",
       "      <th>2</th>\n",
       "      <td>1</td>\n",
       "      <td>6-Complaint__Judgment</td>\n",
       "      <td>3</td>\n",
       "      <td>2</td>\n",
       "      <td>pdf_parser</td>\n",
       "      <td>2024-05-08 10:36:29</td>\n",
       "      <td>label_by_hand.py</td>\n",
       "      <td>0</td>\n",
       "      <td>NaN</td>\n",
       "    </tr>\n",
       "    <tr>\n",
       "      <th>3</th>\n",
       "      <td>1</td>\n",
       "      <td>6-Complaint__Judgment</td>\n",
       "      <td>4</td>\n",
       "      <td>3</td>\n",
       "      <td>pdf_parser</td>\n",
       "      <td>2024-05-08 10:36:29</td>\n",
       "      <td>label_by_hand.py</td>\n",
       "      <td>0</td>\n",
       "      <td>NaN</td>\n",
       "    </tr>\n",
       "    <tr>\n",
       "      <th>4</th>\n",
       "      <td>1</td>\n",
       "      <td>6-Complaint__Judgment</td>\n",
       "      <td>5</td>\n",
       "      <td>4</td>\n",
       "      <td>pdf_parser</td>\n",
       "      <td>2024-05-08 10:36:29</td>\n",
       "      <td>label_by_hand.py</td>\n",
       "      <td>0</td>\n",
       "      <td>NaN</td>\n",
       "    </tr>\n",
       "    <tr>\n",
       "      <th>...</th>\n",
       "      <td>...</td>\n",
       "      <td>...</td>\n",
       "      <td>...</td>\n",
       "      <td>...</td>\n",
       "      <td>...</td>\n",
       "      <td>...</td>\n",
       "      <td>...</td>\n",
       "      <td>...</td>\n",
       "      <td>...</td>\n",
       "    </tr>\n",
       "    <tr>\n",
       "      <th>229</th>\n",
       "      <td>6</td>\n",
       "      <td>george_santos_report</td>\n",
       "      <td>52</td>\n",
       "      <td>51</td>\n",
       "      <td>pdf_parser</td>\n",
       "      <td>2024-05-08 10:36:29</td>\n",
       "      <td>label_by_hand.py</td>\n",
       "      <td>0</td>\n",
       "      <td>NaN</td>\n",
       "    </tr>\n",
       "    <tr>\n",
       "      <th>230</th>\n",
       "      <td>6</td>\n",
       "      <td>george_santos_report</td>\n",
       "      <td>53</td>\n",
       "      <td>52</td>\n",
       "      <td>pdf_parser</td>\n",
       "      <td>2024-05-08 10:36:29</td>\n",
       "      <td>label_by_hand.py</td>\n",
       "      <td>0</td>\n",
       "      <td>NaN</td>\n",
       "    </tr>\n",
       "    <tr>\n",
       "      <th>231</th>\n",
       "      <td>6</td>\n",
       "      <td>george_santos_report</td>\n",
       "      <td>54</td>\n",
       "      <td>53</td>\n",
       "      <td>pdf_parser</td>\n",
       "      <td>2024-05-08 10:36:29</td>\n",
       "      <td>label_by_hand.py</td>\n",
       "      <td>0</td>\n",
       "      <td>NaN</td>\n",
       "    </tr>\n",
       "    <tr>\n",
       "      <th>232</th>\n",
       "      <td>6</td>\n",
       "      <td>george_santos_report</td>\n",
       "      <td>55</td>\n",
       "      <td>54</td>\n",
       "      <td>pdf_parser</td>\n",
       "      <td>2024-05-08 10:36:29</td>\n",
       "      <td>label_by_hand.py</td>\n",
       "      <td>0</td>\n",
       "      <td>NaN</td>\n",
       "    </tr>\n",
       "    <tr>\n",
       "      <th>233</th>\n",
       "      <td>6</td>\n",
       "      <td>george_santos_report</td>\n",
       "      <td>56</td>\n",
       "      <td>55</td>\n",
       "      <td>pdf_parser</td>\n",
       "      <td>2024-05-08 10:36:29</td>\n",
       "      <td>label_by_hand.py</td>\n",
       "      <td>0</td>\n",
       "      <td>NaN</td>\n",
       "    </tr>\n",
       "  </tbody>\n",
       "</table>\n",
       "<p>234 rows × 9 columns</p>\n",
       "</div>"
      ],
      "text/plain": [
       "     document         document_value  page page_value      projid  \\\n",
       "0           1  6-Complaint__Judgment     1          0  pdf_parser   \n",
       "1           1  6-Complaint__Judgment     2          1  pdf_parser   \n",
       "2           1  6-Complaint__Judgment     3          2  pdf_parser   \n",
       "3           1  6-Complaint__Judgment     4          3  pdf_parser   \n",
       "4           1  6-Complaint__Judgment     5          4  pdf_parser   \n",
       "..        ...                    ...   ...        ...         ...   \n",
       "229         6   george_santos_report    52         51  pdf_parser   \n",
       "230         6   george_santos_report    53         52  pdf_parser   \n",
       "231         6   george_santos_report    54         53  pdf_parser   \n",
       "232         6   george_santos_report    55         54  pdf_parser   \n",
       "233         6   george_santos_report    56         55  pdf_parser   \n",
       "\n",
       "                 tstamp          filename first_page page_color  \n",
       "0   2024-05-08 10:36:29  label_by_hand.py          1        NaN  \n",
       "1   2024-05-08 10:36:29  label_by_hand.py          0        NaN  \n",
       "2   2024-05-08 10:36:29  label_by_hand.py          0        NaN  \n",
       "3   2024-05-08 10:36:29  label_by_hand.py          0        NaN  \n",
       "4   2024-05-08 10:36:29  label_by_hand.py          0        NaN  \n",
       "..                  ...               ...        ...        ...  \n",
       "229 2024-05-08 10:36:29  label_by_hand.py          0        NaN  \n",
       "230 2024-05-08 10:36:29  label_by_hand.py          0        NaN  \n",
       "231 2024-05-08 10:36:29  label_by_hand.py          0        NaN  \n",
       "232 2024-05-08 10:36:29  label_by_hand.py          0        NaN  \n",
       "233 2024-05-08 10:36:29  label_by_hand.py          0        NaN  \n",
       "\n",
       "[234 rows x 9 columns]"
      ]
     },
     "execution_count": 1,
     "metadata": {},
     "output_type": "execute_result"
    }
   ],
   "source": [
    "import flor\n",
    "flor.dataframe(\"first_page\", \"page_color\")"
   ]
  },
  {
   "cell_type": "code",
   "execution_count": null,
   "metadata": {},
   "outputs": [],
   "source": [
    "import flor\n",
    "import pandas as pd"
   ]
  },
  {
   "cell_type": "code",
   "execution_count": null,
   "metadata": {},
   "outputs": [],
   "source": [
    "(df := flor.dataframe(\"first_page\", \"page_color\"))"
   ]
  },
  {
   "cell_type": "code",
   "execution_count": null,
   "metadata": {},
   "outputs": [],
   "source": [
    "(df := df[['projid', 'tstamp', 'filename', 'document_value', 'page', 'first_page', 'page_color']])"
   ]
  },
  {
   "cell_type": "code",
   "execution_count": null,
   "metadata": {},
   "outputs": [],
   "source": [
    "# df sorty by tstamp, page \n",
    "(df := df.sort_values(by=['tstamp', 'filename', 'document_value', 'page']))"
   ]
  },
  {
   "cell_type": "code",
   "execution_count": null,
   "metadata": {},
   "outputs": [],
   "source": [
    "(df := df[['projid', 'filename', 'tstamp', 'document_value', 'page', 'first_page', 'page_color']])"
   ]
  },
  {
   "cell_type": "code",
   "execution_count": null,
   "metadata": {},
   "outputs": [],
   "source": [
    "flor.dataframe(\"page_color\")"
   ]
  },
  {
   "cell_type": "code",
   "execution_count": null,
   "metadata": {},
   "outputs": [],
   "source": [
    "flor.dataframe(\"first_page\")"
   ]
  },
  {
   "cell_type": "code",
   "execution_count": null,
   "metadata": {},
   "outputs": [],
   "source": [
    "flor.dataframe('merge-source', 'merged-text')"
   ]
  },
  {
   "cell_type": "code",
   "execution_count": null,
   "metadata": {},
   "outputs": [],
   "source": [
    "df = flor.dataframe(\n",
    "            \"txt-headings\",\n",
    "            \"txt-page_numbers\",\n",
    "            \"ocr-headings\",\n",
    "            \"ocr-page_numbers\",\n",
    "            \"merge-source\",\n",
    "            \"merged-text\",\n",
    ")\n",
    "df"
   ]
  },
  {
   "cell_type": "code",
   "execution_count": null,
   "metadata": {},
   "outputs": [],
   "source": [
    "df = df[['projid', 'tstamp', 'filename', 'document_value', 'page', 'ocr-headings', 'ocr-page_numbers', 'merge-source', 'merged-text']]\n",
    "df"
   ]
  },
  {
   "cell_type": "code",
   "execution_count": null,
   "metadata": {},
   "outputs": [],
   "source": [
    "df = df[df['merge-source'] == 'ocr']\n",
    "df"
   ]
  },
  {
   "cell_type": "code",
   "execution_count": null,
   "metadata": {
    "tags": []
   },
   "outputs": [],
   "source": [
    "df.head()"
   ]
  },
  {
   "cell_type": "code",
   "execution_count": null,
   "metadata": {
    "tags": []
   },
   "outputs": [],
   "source": [
    "df = df.rename(columns={'document_value': 'document', 'ocr_headings': 'headings', 'ocr-page_numbers': 'page_numbers', 'merge-source': 'text_src', 'merged-text': 'page_text'})\n",
    "df"
   ]
  },
  {
   "cell_type": "code",
   "execution_count": null,
   "metadata": {},
   "outputs": [],
   "source": [
    "pd.concat([df.head(), pd.DataFrame([['*'] * len(df.columns)], columns=df.columns, index=['*']), df.tail()])"
   ]
  },
  {
   "cell_type": "code",
   "execution_count": null,
   "metadata": {},
   "outputs": [],
   "source": []
  },
  {
   "cell_type": "code",
   "execution_count": null,
   "metadata": {},
   "outputs": [],
   "source": []
  }
 ],
 "metadata": {
  "kernelspec": {
   "display_name": "Python 3 (ipykernel)",
   "language": "python",
   "name": "python3"
  },
  "language_info": {
   "codemirror_mode": {
    "name": "ipython",
    "version": 3
   },
   "file_extension": ".py",
   "mimetype": "text/x-python",
   "name": "python",
   "nbconvert_exporter": "python",
   "pygments_lexer": "ipython3",
   "version": "3.11.5"
  }
 },
 "nbformat": 4,
 "nbformat_minor": 4
}
